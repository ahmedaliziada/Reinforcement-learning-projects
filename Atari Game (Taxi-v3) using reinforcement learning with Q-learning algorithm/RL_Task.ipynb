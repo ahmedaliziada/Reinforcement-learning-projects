{
  "nbformat": 4,
  "nbformat_minor": 0,
  "metadata": {
    "colab": {
      "name": "RL - Task",
      "provenance": [],
      "collapsed_sections": []
    },
    "kernelspec": {
      "name": "python3",
      "display_name": "Python 3"
    },
    "language_info": {
      "name": "python"
    }
  },
  "cells": [
    {
      "cell_type": "markdown",
      "source": [
        "## **Module of functions that can use multiple environments**"
      ],
      "metadata": {
        "id": "FJWQeX_mu8mS"
      }
    },
    {
      "cell_type": "code",
      "source": [
        "!pip install cmake 'gym[atari]' scipy"
      ],
      "metadata": {
        "colab": {
          "base_uri": "https://localhost:8080/"
        },
        "id": "SrvCyqGSuLYE",
        "outputId": "9edfffd3-1e5c-46ab-c229-f92aad5334a3"
      },
      "execution_count": 5,
      "outputs": [
        {
          "output_type": "stream",
          "name": "stdout",
          "text": [
            "Looking in indexes: https://pypi.org/simple, https://us-python.pkg.dev/colab-wheels/public/simple/\n",
            "Requirement already satisfied: cmake in /usr/local/lib/python3.7/dist-packages (3.22.4)\n",
            "Requirement already satisfied: gym[atari] in /usr/local/lib/python3.7/dist-packages (0.17.3)\n",
            "Requirement already satisfied: scipy in /usr/local/lib/python3.7/dist-packages (1.4.1)\n",
            "Requirement already satisfied: numpy>=1.13.3 in /usr/local/lib/python3.7/dist-packages (from scipy) (1.21.6)\n",
            "Requirement already satisfied: cloudpickle<1.7.0,>=1.2.0 in /usr/local/lib/python3.7/dist-packages (from gym[atari]) (1.3.0)\n",
            "Requirement already satisfied: pyglet<=1.5.0,>=1.4.0 in /usr/local/lib/python3.7/dist-packages (from gym[atari]) (1.5.0)\n",
            "Requirement already satisfied: Pillow in /usr/local/lib/python3.7/dist-packages (from gym[atari]) (7.1.2)\n",
            "Requirement already satisfied: opencv-python in /usr/local/lib/python3.7/dist-packages (from gym[atari]) (4.1.2.30)\n",
            "Requirement already satisfied: atari-py~=0.2.0 in /usr/local/lib/python3.7/dist-packages (from gym[atari]) (0.2.9)\n",
            "Requirement already satisfied: six in /usr/local/lib/python3.7/dist-packages (from atari-py~=0.2.0->gym[atari]) (1.15.0)\n",
            "Requirement already satisfied: future in /usr/local/lib/python3.7/dist-packages (from pyglet<=1.5.0,>=1.4.0->gym[atari]) (0.16.0)\n"
          ]
        }
      ]
    },
    {
      "cell_type": "markdown",
      "source": [
        "Importing important Packages"
      ],
      "metadata": {
        "id": "Dv3usUD-vBLQ"
      }
    },
    {
      "cell_type": "code",
      "execution_count": 46,
      "metadata": {
        "id": "y9P1Ae1vmnvc"
      },
      "outputs": [],
      "source": [
        "import gym \n",
        "import random\n",
        "from IPython.display import clear_output\n",
        "import numpy as np\n",
        "from IPython.display import clear_output\n",
        "from time import sleep\n",
        "import itertools"
      ]
    },
    {
      "cell_type": "markdown",
      "source": [
        "Function to learn the agent"
      ],
      "metadata": {
        "id": "iRV4iEp6vMQV"
      }
    },
    {
      "cell_type": "code",
      "source": [
        "def learning(the_game, alpha, gamma, epsilon, itritions = 100001):\n",
        "  #picking the environment \n",
        "  env = gym.make(the_game).env\n",
        "  #reset environment to a new, random state\n",
        "  env.reset()\n",
        "  #Viewing the environment\n",
        "  env.render()\n",
        "\n",
        "  # Initialize the q table\n",
        "  q_table = np.zeros([env.observation_space.n, env.action_space.n])\n",
        "\n",
        "  # For plotting metrics\n",
        "  all_epochs = []\n",
        "  all_penalties = []\n",
        "\n",
        "  for i in range(0, itritions):\n",
        "    state = env.reset()\n",
        "\n",
        "    epochs, penalties, reward, = 0, 0, 0\n",
        "    done = False\n",
        "\n",
        "    while not done and epochs < 1000 :\n",
        "          if random.uniform(0, 1) < epsilon:\n",
        "              action = env.action_space.sample() # Explore action space\n",
        "          else:\n",
        "              action = np.argmax(q_table[state]) # Exploit learned values\n",
        "\n",
        "          next_state, reward, done, info = env.step(action) \n",
        "          \n",
        "          old_value = q_table[state, action]\n",
        "          next_max = np.max(q_table[next_state])\n",
        "      \n",
        "          new_value = (1 - alpha) * old_value + alpha * (reward + gamma * next_max)\n",
        "          q_table[state, action] = new_value\n",
        "\n",
        "          if reward == -10:\n",
        "              penalties += 1\n",
        "\n",
        "          state = next_state\n",
        "          epochs += 1\n",
        "          \n",
        "    if i % 5000 == 0:\n",
        "        alpha = alpha * (1-0.005)\n",
        "        gamma = gamma * (1-0.05)\n",
        "        epsilon = epsilon * (1-0.05)\n",
        "        \n",
        "    if i % 100 == 0:\n",
        "        clear_output(wait=True)\n",
        "        print(f\"Episode: {i}\")\n",
        "\n",
        "  print(\"Training finished.\\n\")\n",
        "\n",
        "\n",
        "\n",
        "  return  env , q_table"
      ],
      "metadata": {
        "id": "d-vteMYmvtXo"
      },
      "execution_count": 84,
      "outputs": []
    },
    {
      "cell_type": "markdown",
      "source": [
        "Function to evaluate agent's performance after Q-learning"
      ],
      "metadata": {
        "id": "iijNi0IUvTzY"
      }
    },
    {
      "cell_type": "code",
      "source": [
        "def evaluating (env , q_table, episodes):  \n",
        "  total_epochs, total_penalties,total_rewards = 0, 0,0\n",
        "\n",
        "  for _ in range(episodes):\n",
        "      state = env.reset()\n",
        "      epochs, penalties, reward = 0, 0, 0\n",
        "      \n",
        "      done = False\n",
        "      \n",
        "      while not done and epochs < 1000:\n",
        "          action = np.argmax(q_table[state])\n",
        "          state, reward, done, info = env.step(action)\n",
        "\n",
        "          if reward == -10:\n",
        "              penalties += 1\n",
        "\n",
        "          epochs += 1\n",
        "\n",
        "      total_penalties += penalties\n",
        "      total_epochs += epochs\n",
        "      total_rewards += reward\n",
        "  print(f\"Results after {episodes} episodes:\")\n",
        "  print(f\"Average timesteps per episode: {total_epochs / episodes}\")\n",
        "  print(f\"Average penalties per episode: {total_penalties / episodes}\")\n",
        "  return total_epochs,total_rewards"
      ],
      "metadata": {
        "id": "PvrW1690shLp"
      },
      "execution_count": 92,
      "outputs": []
    },
    {
      "cell_type": "code",
      "source": [
        "envi , q_tab = learning(\"Taxi-v3\", 0.9,1,1,50001)"
      ],
      "metadata": {
        "id": "oJ01gCm7yRjx",
        "colab": {
          "base_uri": "https://localhost:8080/"
        },
        "outputId": "c9062f1c-fdba-4d9a-f822-2c0b9843bcc4"
      },
      "execution_count": 43,
      "outputs": [
        {
          "output_type": "stream",
          "name": "stdout",
          "text": [
            "Episode: 50000\n",
            "Training finished.\n",
            "\n"
          ]
        }
      ]
    },
    {
      "cell_type": "code",
      "source": [
        "tepochs,trewards = evaluating(envi , q_tab, 1000)"
      ],
      "metadata": {
        "colab": {
          "base_uri": "https://localhost:8080/"
        },
        "id": "8DfNrpMQWpud",
        "outputId": "634ae5e2-bcc5-4ce1-8219-ddaecc7efb9f"
      },
      "execution_count": 76,
      "outputs": [
        {
          "output_type": "stream",
          "name": "stdout",
          "text": [
            "Results after 1000 episodes:\n",
            "Average timesteps per episode: 13.134\n",
            "Average penalties per episode: 0.0\n"
          ]
        }
      ]
    },
    {
      "cell_type": "markdown",
      "source": [
        "## **Grid search**"
      ],
      "metadata": {
        "id": "CtLXPYCCDZOE"
      }
    },
    {
      "cell_type": "markdown",
      "source": [
        "Grid search function to discover the best hyperparameters"
      ],
      "metadata": {
        "id": "ElUwbbekkktD"
      }
    },
    {
      "cell_type": "code",
      "source": [
        "def grid_search (the_game, itritions ,episodes):\n",
        "  alpha_range = list(np.arange(0, 1, 0.5))\n",
        "  gama_range = list(np.arange(0, 1, 0.5))\n",
        "  epsilon_range = list(np.arange(0, 1, 0.5))\n",
        "  ls = list(itertools.product(alpha_range,gama_range,epsilon_range))\n",
        "  all = []\n",
        "  for i in ls:\n",
        "    environment , q_table= learning(the_game, i[0], i[1], i[2],itritions)\n",
        "    tepochs,trewards = evaluating (environment , q_table, episodes)\n",
        "    acc = trewards/tepochs\n",
        "    all.append({\"atpe\": acc, \"paramters\": (i[0], i[1], i[2])})\n",
        "  \n",
        "  return all"
      ],
      "metadata": {
        "id": "fqd5BS6MyXl7"
      },
      "execution_count": 96,
      "outputs": []
    },
    {
      "cell_type": "code",
      "source": [
        "best = grid_search(\"Taxi-v3\",50001,1000)"
      ],
      "metadata": {
        "colab": {
          "base_uri": "https://localhost:8080/"
        },
        "id": "BDbqT5Wz0jWq",
        "outputId": "e133ba73-9eda-4e07-f492-17ed5403c018"
      },
      "execution_count": 97,
      "outputs": [
        {
          "output_type": "stream",
          "name": "stdout",
          "text": [
            "Episode: 50000\n",
            "Training finished.\n",
            "\n",
            "Results after 1000 episodes:\n",
            "Average timesteps per episode: 112.98\n",
            "Average penalties per episode: 0.0\n"
          ]
        }
      ]
    }
  ]
}